{
 "cells": [
  {
   "cell_type": "markdown",
   "metadata": {},
   "source": [
    "[FROM HERE](https://nelkinda.com/blog/xeyes-in-docker/)\n",
    "# https://nelkinda.com/blog/xeyes-in-docker/"
   ]
  },
  {
   "cell_type": "code",
   "execution_count": null,
   "metadata": {
    "vscode": {
     "languageId": "shellscript"
    }
   },
   "outputs": [],
   "source": [
    "export DISPLAY=:0\n",
    "docker run -it --rm --name xeyes xeyes-in-docker"
   ]
  },
  {
   "cell_type": "markdown",
   "metadata": {},
   "source": [
    "# on  cat /etc/os-release \n",
    "PRETTY_NAME=\"Ubuntu 22.04.3 LTS\"\n",
    "NAME=\"Ubuntu\"\n",
    "VERSION_ID=\"22.04\"\n",
    "VERSION=\"22.04.3 LTS (Jammy Jellyfish)\"\n",
    "VERSION_CODENAME=jammy\n",
    "ID=ubuntu\n",
    "ID_LIKE=debian\n",
    "HOME_URL=\"https://www.ubuntu.com/\"\n",
    "SUPPORT_URL=\"https://help.ubuntu.com/\"\n",
    "BUG_REPORT_URL=\"https://bugs.launchpad.net/ubuntu/\"\n",
    "PRIVACY_POLICY_URL=\"https://www.ubuntu.com/legal/terms-and-policies/privacy-policy\"\n",
    "UBUNTU_CODENAME=jammy"
   ]
  },
  {
   "cell_type": "markdown",
   "metadata": {},
   "source": [
    "# debian"
   ]
  },
  {
   "cell_type": "markdown",
   "metadata": {},
   "source": [
    "# dockerfile\n",
    "\n",
    "```bash\n",
    "cat <<EOF >>Dockerfile__debian_xeyes-in-docker.sample\n",
    "FROM debian:latest\n",
    " \n",
    "RUN apt-get update && apt-get install -y x11-apps\n",
    "RUN rm -rf /tmp/* /usr/share/doc/* /usr/share/info/* /var/tmp/*\n",
    "RUN useradd -ms /bin/bash user\n",
    "ENV DISPLAY :0\n",
    " \n",
    "USER user\n",
    "ENTRYPOINT [\"/bin/sh\", \"-c\", \"$0 \\\"$@\\\"\", \"xeyes\"]\n",
    "EOF\n",
    "```"
   ]
  },
  {
   "cell_type": "markdown",
   "metadata": {},
   "source": [
    "# build docker image"
   ]
  },
  {
   "cell_type": "code",
   "execution_count": null,
   "metadata": {
    "vscode": {
     "languageId": "shellscript"
    }
   },
   "outputs": [],
   "source": [
    "docker build -t debian_xeyes-in-docker -f ./Dockerfile__debian_xeyes-in-docker \".\""
   ]
  },
  {
   "cell_type": "markdown",
   "metadata": {},
   "source": [
    "sudo setfacl -m user:1000:r ${HOME}/.Xauthority"
   ]
  },
  {
   "cell_type": "code",
   "execution_count": null,
   "metadata": {
    "vscode": {
     "languageId": "shellscript"
    }
   },
   "outputs": [],
   "source": [
    "export DISPLAY=:0;\n",
    "xhost +;\n",
    "docker run \\\n",
    "    -it \\\n",
    "    --rm \\\n",
    "    --name xeyes \\\n",
    "    --net=host \\\n",
    "    -e DISPLAY \\\n",
    "    -v ${HOME}/.Xauthority:/home/user/.Xauthority \\\n",
    "    debian_xeyes-in-docker \\\n",
    "    \"$@\";"
   ]
  },
  {
   "cell_type": "markdown",
   "metadata": {},
   "source": [
    "# alpine"
   ]
  },
  {
   "cell_type": "markdown",
   "metadata": {},
   "source": [
    "# dockerfile_alpine_xeyes-in-docker\n",
    "\n",
    "```bash\n",
    "cat <<EOF >Dockerfile_alpine_xeyes-in-docker\n",
    "FROM alpine:latest\n",
    "\n",
    "RUN apk update && apk add  xeyes bash\n",
    "RUN rm -rf /tmp/* /usr/share/doc/* /usr/share/info/* /var/tmp/*\n",
    "# RUN useradd -ms /bin/bash user\n",
    "ARG user=user\n",
    "ARG home=/home/\\$user\n",
    "RUN addgroup -S docker\n",
    "RUN adduser     --disabled-password     --gecos \"\"     --home \\$home     --ingroup docker     \\$user\n",
    "WORKDIR \\$home\n",
    "USER \\$user\n",
    "# end\n",
    "ENV DISPLAY :0\n",
    " \n",
    "USER user\n",
    "ENTRYPOINT [\"/bin/bash\", \"-c\", \"$0 \\\"$@\\\"\", \"xeyes\"]\n",
    "EOF\n",
    "```"
   ]
  },
  {
   "cell_type": "markdown",
   "metadata": {},
   "source": [
    "# build dockerfile"
   ]
  },
  {
   "cell_type": "code",
   "execution_count": null,
   "metadata": {
    "vscode": {
     "languageId": "shellscript"
    }
   },
   "outputs": [],
   "source": [
    "docker build -t alpine-xeyes-in-docker -f ./Dockerfile_alpine_xeyes-in-docker \".\""
   ]
  },
  {
   "cell_type": "markdown",
   "metadata": {},
   "source": [
    "# run image"
   ]
  },
  {
   "cell_type": "code",
   "execution_count": null,
   "metadata": {
    "vscode": {
     "languageId": "shellscript"
    }
   },
   "outputs": [],
   "source": [
    "export DISPLAY=:0;\n",
    "xhost +;\n",
    "docker run \\\n",
    "    -it \\\n",
    "    --rm \\\n",
    "    --name xeyes \\\n",
    "    --net=host \\\n",
    "    -e DISPLAY \\\n",
    "    -v ${HOME}/.Xauthority:/home/user/.Xauthority \\\n",
    "    alpine-xeyes-in-docker \\\n",
    "    \"$@\";"
   ]
  },
  {
   "cell_type": "markdown",
   "metadata": {},
   "source": [
    "[Install X-Window in Alpine Linux- 2017](https://troglobit.com/2017/09/10/install-x-window-in-alpine-linux/)"
   ]
  },
  {
   "cell_type": "markdown",
   "metadata": {},
   "source": [
    "# make alpine bash image"
   ]
  },
  {
   "cell_type": "code",
   "execution_count": null,
   "metadata": {
    "vscode": {
     "languageId": "shellscript"
    }
   },
   "outputs": [],
   "source": []
  },
  {
   "cell_type": "code",
   "execution_count": null,
   "metadata": {
    "vscode": {
     "languageId": "shellscript"
    }
   },
   "outputs": [],
   "source": [
    "cat <<EOF >>Dockerfile_alpine_bash_sample\n",
    "# FROM HERE\n",
    "# https://stackoverflow.com/questions/63602750/how-to-create-and-add-user-with-password-in-alpine-dockerfile\n",
    "\n",
    "FROM alpine:latest\n",
    "SHELL [\"/bin/sh\", \"-c\"]\n",
    "RUN apk add --no-cache bash\n",
    "ARG user=trapapa\n",
    "ARG home=/home/\\$user\n",
    "RUN addgroup -S docker\n",
    "RUN adduser     --disabled-password     --gecos \"\"     --home \\$home     --ingroup docker     \\$user\n",
    "WORKDIR \\$home\n",
    "USER \\$user\n",
    "# COPY --chown=\\$user entrypoint.sh .\n",
    "# RUN chmod +x entrypoint.sh\n",
    "# ENTRYPOINT [\"./entrypoint.sh\"]\n",
    "ENTRYPOINT [\"/bin/sh\"]\n",
    "# docker build -t alpine_bash -f ./Dockerfile_alpine_bash \".\" \n",
    "# docker run -it --rm -name alpine_bash --net=host-e DISPLAY -v ${HOME}/.Xauthority:/home/user/.Xauthority alpine_bash \"$@\"\n",
    "EOF"
   ]
  },
  {
   "cell_type": "code",
   "execution_count": null,
   "metadata": {
    "vscode": {
     "languageId": "shellscript"
    }
   },
   "outputs": [],
   "source": [
    "# build\n",
    "docker build -t alpine_bash -f ./Dockerfile_alpine_bash \".\"\n",
    "\n",
    "# run\n",
    "docker run \\\n",
    "    -it \\\n",
    "    --rm \\\n",
    "    --name alpine_bash \\\n",
    "    --net=host \\\n",
    "    -e DISPLAY \\\n",
    "    -v ${HOME}/.Xauthority:/home/user/.Xauthority \\\n",
    "    alpine_bash \\\n",
    "    \"$@\""
   ]
  },
  {
   "cell_type": "markdown",
   "metadata": {},
   "source": [
    "# size of instance"
   ]
  },
  {
   "cell_type": "code",
   "execution_count": null,
   "metadata": {
    "vscode": {
     "languageId": "shellscript"
    }
   },
   "outputs": [],
   "source": [
    "docker ps --size"
   ]
  }
 ],
 "metadata": {
  "kernelspec": {
   "display_name": "Bash",
   "language": "bash",
   "name": "bash"
  },
  "language_info": {
   "name": "bash"
  }
 },
 "nbformat": 4,
 "nbformat_minor": 2
}
