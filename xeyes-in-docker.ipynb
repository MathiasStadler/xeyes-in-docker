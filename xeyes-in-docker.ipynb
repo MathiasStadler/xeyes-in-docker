{
 "cells": [
  {
   "cell_type": "markdown",
   "metadata": {},
   "source": [
    "[FROM HERE](https://nelkinda.com/blog/xeyes-in-docker/)\n",
    "# https://nelkinda.com/blog/xeyes-in-docker/"
   ]
  },
  {
   "cell_type": "code",
   "execution_count": null,
   "metadata": {
    "vscode": {
     "languageId": "shellscript"
    }
   },
   "outputs": [],
   "source": [
    "export DISPLAY=:0\n",
    "docker run -it --rm --name xeyes xeyes-in-docker"
   ]
  },
  {
   "cell_type": "markdown",
   "metadata": {},
   "source": [
    "# on  cat /etc/os-release \n",
    "PRETTY_NAME=\"Ubuntu 22.04.3 LTS\"\n",
    "NAME=\"Ubuntu\"\n",
    "VERSION_ID=\"22.04\"\n",
    "VERSION=\"22.04.3 LTS (Jammy Jellyfish)\"\n",
    "VERSION_CODENAME=jammy\n",
    "ID=ubuntu\n",
    "ID_LIKE=debian\n",
    "HOME_URL=\"https://www.ubuntu.com/\"\n",
    "SUPPORT_URL=\"https://help.ubuntu.com/\"\n",
    "BUG_REPORT_URL=\"https://bugs.launchpad.net/ubuntu/\"\n",
    "PRIVACY_POLICY_URL=\"https://www.ubuntu.com/legal/terms-and-policies/privacy-policy\"\n",
    "UBUNTU_CODENAME=jammy"
   ]
  },
  {
   "cell_type": "markdown",
   "metadata": {},
   "source": [
    "# debian"
   ]
  },
  {
   "cell_type": "markdown",
   "metadata": {},
   "source": [
    "# dockerfile\n",
    "\n",
    "```bash\n",
    "cat <<EOF >>Dockerfile__debian_xeyes-in-docker.sample\n",
    "FROM debian:latest\n",
    " \n",
    "RUN apt-get update && apt-get install -y x11-apps\n",
    "RUN rm -rf /tmp/* /usr/share/doc/* /usr/share/info/* /var/tmp/*\n",
    "RUN useradd -ms /bin/bash user\n",
    "ENV DISPLAY :0\n",
    " \n",
    "USER user\n",
    "ENTRYPOINT [\"/bin/sh\", \"-c\", \"$0 \\\"$@\\\"\", \"xeyes\"]\n",
    "EOF\n",
    "```"
   ]
  },
  {
   "cell_type": "markdown",
   "metadata": {},
   "source": [
    "# build docker image"
   ]
  },
  {
   "cell_type": "code",
   "execution_count": null,
   "metadata": {
    "vscode": {
     "languageId": "shellscript"
    }
   },
   "outputs": [],
   "source": [
    "docker build -t xeyes-in-docker -f ./Dockerfile__debian_xeyes-in-docker \".\""
   ]
  },
  {
   "cell_type": "markdown",
   "metadata": {},
   "source": [
    "sudo setfacl -m user:1000:r ${HOME}/.Xauthority"
   ]
  },
  {
   "cell_type": "code",
   "execution_count": null,
   "metadata": {
    "vscode": {
     "languageId": "shellscript"
    }
   },
   "outputs": [],
   "source": [
    "docker run \\\n",
    "    -it \\\n",
    "    --rm \\\n",
    "    --name xeyes \\\n",
    "    --net=host \\\n",
    "    -e DISPLAY \\\n",
    "    -v ${HOME}/.Xauthority:/home/user/.Xauthority \\\n",
    "    xeyes-in-docker \\\n",
    "    \"$@\""
   ]
  },
  {
   "cell_type": "markdown",
   "metadata": {},
   "source": [
    "# alpine"
   ]
  },
  {
   "cell_type": "markdown",
   "metadata": {},
   "source": [
    "# dockerfile_alpine_xeyes-in-docker\n",
    "\n",
    "```bash\n",
    "cat <<EOF >>Dockerfile__alpine_xeyes-in-docker\n",
    "FROM alpine:latest\n",
    "\n",
    "RUN apk update && apk add  x11-apps\n",
    "RUN rm -rf /tmp/* /usr/share/doc/* /usr/share/info/* /var/tmp/*\n",
    "RUN useradd -ms /bin/bash user\n",
    "ENV DISPLAY :0\n",
    " \n",
    "USER user\n",
    "ENTRYPOINT [\"/bin/sh\", \"-c\", \"$0 \\\"$@\\\"\", \"xeyes\"]\n",
    "EOF\n",
    "```"
   ]
  },
  {
   "cell_type": "markdown",
   "metadata": {},
   "source": [
    "# build dockerfile"
   ]
  },
  {
   "cell_type": "code",
   "execution_count": null,
   "metadata": {
    "vscode": {
     "languageId": "shellscript"
    }
   },
   "outputs": [],
   "source": [
    "docker build -t xeyes-in-docker -f ./Dockerfile__debian_alpine-in-docker \".\""
   ]
  }
 ],
 "metadata": {
  "kernelspec": {
   "display_name": "Bash",
   "language": "bash",
   "name": "bash"
  },
  "language_info": {
   "name": "bash"
  }
 },
 "nbformat": 4,
 "nbformat_minor": 2
}
