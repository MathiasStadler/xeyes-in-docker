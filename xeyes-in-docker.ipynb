{
 "cells": [
  {
   "cell_type": "markdown",
   "metadata": {},
   "source": [
    "[FROM HERE](https://nelkinda.com/blog/xeyes-in-docker/)"
   ]
  },
  {
   "cell_type": "code",
   "execution_count": null,
   "metadata": {
    "vscode": {
     "languageId": "shellscript"
    }
   },
   "outputs": [],
   "source": [
    "export DISPLAY=:0\n",
    "docker run -it --rm --name xeyes xeyes-in-docker"
   ]
  },
  {
   "cell_type": "markdown",
   "metadata": {},
   "source": [
    "sudo setfacl -m user:1000:r ${HOME}/.Xauthority"
   ]
  },
  {
   "cell_type": "code",
   "execution_count": null,
   "metadata": {
    "vscode": {
     "languageId": "shellscript"
    }
   },
   "outputs": [],
   "source": [
    "docker run \\\n",
    "    -it \\\n",
    "    --rm \\\n",
    "    --name xeyes \\\n",
    "    --net=host \\\n",
    "    -e DISPLAY \\\n",
    "    -v ${HOME}/.Xauthority:/home/user/.Xauthority \\\n",
    "    xeyes-in-docker \\\n",
    "    \"$@\""
   ]
  }
 ],
 "metadata": {
  "kernelspec": {
   "display_name": "Bash",
   "language": "bash",
   "name": "bash"
  },
  "language_info": {
   "name": "bash"
  }
 },
 "nbformat": 4,
 "nbformat_minor": 2
}
